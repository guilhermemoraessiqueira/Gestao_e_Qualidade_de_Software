{
  "nbformat": 4,
  "nbformat_minor": 5,
  "metadata": {
    "colab": {
      "provenance": []
    },
    "language_info": {
      "name": "python"
    },
    "kernelspec": {
      "name": "python3",
      "display_name": "Python 3"
    }
  },
  "cells": [
    {
      "id": "7336d105",
      "cell_type": "markdown",
      "source": [
        "# Tutorial: Testes Unitários em Python (Google Colab)\n",
        "\n",
        "## Objetivos\n",
        "- Introduzir conceitos de testes unitários\n",
        "- Criar testes com `unittest`\n",
        "- Criar testes com `pytest`\n",
        "- Trabalhar com classes, exceções e mocks\n",
        "- Aplicar boas práticas em testes automatizados"
      ],
      "metadata": {
        "id": "7336d105"
      }
    },
    {
      "id": "314acb76",
      "cell_type": "markdown",
      "source": [
        "## Passo 1 - Primeiro código no Colab"
      ],
      "metadata": {
        "id": "314acb76"
      }
    },
    {
      "id": "50708638",
      "cell_type": "code",
      "metadata": {
        "colab": {
          "base_uri": "https://localhost:8080/"
        },
        "id": "50708638",
        "outputId": "15763eb2-e7d2-44eb-9927-0fce3e0ec415"
      },
      "execution_count": 1,
      "source": [
        "print('Olá, Colab!')"
      ],
      "outputs": [
        {
          "output_type": "stream",
          "name": "stdout",
          "text": [
            "Olá, Colab!\n"
          ]
        }
      ]
    },
    {
      "id": "65e002d3",
      "cell_type": "markdown",
      "source": [
        "## Exemplo 1 - Função `soma` com `unittest`"
      ],
      "metadata": {
        "id": "65e002d3"
      }
    },
    {
      "id": "c7463668",
      "cell_type": "code",
      "metadata": {
        "id": "c7463668"
      },
      "execution_count": 2,
      "source": [
        "\n",
        "# Função a ser testada\n",
        "def soma(a, b):\n",
        "    return a + b\n"
      ],
      "outputs": []
    },
    {
      "id": "9680bf5e",
      "cell_type": "code",
      "metadata": {
        "colab": {
          "base_uri": "https://localhost:8080/"
        },
        "id": "9680bf5e",
        "outputId": "f1d114f9-7147-4c25-fc9e-77c391364a37"
      },
      "execution_count": 3,
      "source": [
        "\n",
        "# Testes unitários com unittest\n",
        "import unittest\n",
        "\n",
        "class TestSoma(unittest.TestCase):\n",
        "    def test_soma_positivos(self):\n",
        "        self.assertEqual(soma(2, 3), 5)\n",
        "\n",
        "    def test_soma_zero(self):\n",
        "        self.assertEqual(soma(0, 5), 5)\n",
        "\n",
        "    def test_soma_negativos(self):\n",
        "        self.assertEqual(soma(-2, -3), -5)\n",
        "\n",
        "if __name__ == \"__main__\":\n",
        "    unittest.main(argv=['first-arg-is-ignored'], exit=False)\n"
      ],
      "outputs": [
        {
          "output_type": "stream",
          "name": "stderr",
          "text": [
            "...\n",
            "----------------------------------------------------------------------\n",
            "Ran 3 tests in 0.003s\n",
            "\n",
            "OK\n"
          ]
        }
      ]
    },
    {
      "id": "fde37c23",
      "cell_type": "markdown",
      "source": [
        "## Exemplo 2 - Usando `pytest` com módulo `calc.py`"
      ],
      "metadata": {
        "id": "fde37c23"
      }
    },
    {
      "id": "a5920609",
      "cell_type": "code",
      "metadata": {
        "colab": {
          "base_uri": "https://localhost:8080/"
        },
        "id": "a5920609",
        "outputId": "2b179eab-e86a-4a31-b153-b6f049b7b8a3"
      },
      "execution_count": 7,
      "source": [
        "\n",
        "%%writefile calc.py\n",
        "def soma(a, b):\n",
        "    return a + b\n",
        "\n",
        "def quadrado(x):\n",
        "    return x * x\n"
      ],
      "outputs": [
        {
          "output_type": "stream",
          "name": "stdout",
          "text": [
            "Overwriting calc.py\n"
          ]
        }
      ]
    },
    {
      "id": "37352af2",
      "cell_type": "code",
      "metadata": {
        "colab": {
          "base_uri": "https://localhost:8080/"
        },
        "id": "37352af2",
        "outputId": "fb151feb-f334-4241-b6a0-29840b5a17e0"
      },
      "execution_count": 9,
      "source": [
        "\n",
        "%%writefile test_calc.py\n",
        "from calc import soma, quadrado\n",
        "\n",
        "def test_soma_positivos():\n",
        "    assert soma(2, 3) == 5\n",
        "\n",
        "def test_quadrado():\n",
        "    assert quadrado(4) == 16\n"
      ],
      "outputs": [
        {
          "output_type": "stream",
          "name": "stdout",
          "text": [
            "Overwriting test_calc.py\n"
          ]
        }
      ]
    },
    {
      "id": "e5c300c5",
      "cell_type": "code",
      "metadata": {
        "colab": {
          "base_uri": "https://localhost:8080/"
        },
        "id": "e5c300c5",
        "outputId": "3342ddd7-8c3f-4731-acd3-e70aad368f40"
      },
      "execution_count": 6,
      "source": [
        "\n",
        "!pip install pytest -q\n",
        "!pytest -q test_calc.py\n"
      ],
      "outputs": [
        {
          "output_type": "stream",
          "name": "stdout",
          "text": [
            "\u001b[32m.\u001b[0m\u001b[32m.\u001b[0m\u001b[32m                                                                       [100%]\u001b[0m\n",
            "\u001b[32m\u001b[32m\u001b[1m2 passed\u001b[0m\u001b[32m in 0.02s\u001b[0m\u001b[0m\n"
          ]
        }
      ]
    },
    {
      "id": "cadf2b23",
      "cell_type": "markdown",
      "source": [
        "## Exemplo 3 - Classe `BankAccount` com exceções"
      ],
      "metadata": {
        "id": "cadf2b23"
      }
    },
    {
      "id": "3fb55af7",
      "cell_type": "code",
      "metadata": {
        "colab": {
          "base_uri": "https://localhost:8080/"
        },
        "id": "3fb55af7",
        "outputId": "fb9729f0-16e1-41dc-f94d-0fb0f1a938ab"
      },
      "execution_count": 10,
      "source": [
        "\n",
        "%%writefile account.py\n",
        "class InsufficientFunds(Exception):\n",
        "    pass\n",
        "\n",
        "class BankAccount:\n",
        "    def __init__(self, balance=0):\n",
        "        self.balance = balance\n",
        "\n",
        "    def deposit(self, amount):\n",
        "        if amount <= 0:\n",
        "            raise ValueError('amount must be positive')\n",
        "        self.balance += amount\n",
        "\n",
        "    def withdraw(self, amount):\n",
        "        if amount > self.balance:\n",
        "            raise InsufficientFunds('not enough balance')\n",
        "        self.balance -= amount\n"
      ],
      "outputs": [
        {
          "output_type": "stream",
          "name": "stdout",
          "text": [
            "Writing account.py\n"
          ]
        }
      ]
    },
    {
      "id": "4b8102a2",
      "cell_type": "code",
      "metadata": {
        "colab": {
          "base_uri": "https://localhost:8080/"
        },
        "id": "4b8102a2",
        "outputId": "989cc372-518b-465e-a276-29bcb87ef318"
      },
      "execution_count": 11,
      "source": [
        "\n",
        "%%writefile test_account_unittest.py\n",
        "import unittest\n",
        "from account import BankAccount, InsufficientFunds\n",
        "\n",
        "class TestBankAccount(unittest.TestCase):\n",
        "    def setUp(self):\n",
        "        self.acc = BankAccount(100)\n",
        "\n",
        "    def test_deposit(self):\n",
        "        self.acc.deposit(50)\n",
        "        self.assertEqual(self.acc.balance, 150)\n",
        "\n",
        "    def test_withdraw_success(self):\n",
        "        self.acc.withdraw(40)\n",
        "        self.assertEqual(self.acc.balance, 60)\n",
        "\n",
        "    def test_withdraw_insufficient(self):\n",
        "        with self.assertRaises(InsufficientFunds):\n",
        "            self.acc.withdraw(200)\n",
        "\n",
        "if __name__ == \"__main__\":\n",
        "    unittest.main(argv=['first-arg-is-ignored'], exit=False)\n"
      ],
      "outputs": [
        {
          "output_type": "stream",
          "name": "stdout",
          "text": [
            "Writing test_account_unittest.py\n"
          ]
        }
      ]
    },
    {
      "id": "c701a58c",
      "cell_type": "code",
      "metadata": {
        "colab": {
          "base_uri": "https://localhost:8080/"
        },
        "id": "c701a58c",
        "outputId": "79982df9-8526-4093-f0e3-6e240febee93"
      },
      "execution_count": 12,
      "source": [
        "!pytest -q test_account_unittest.py"
      ],
      "outputs": [
        {
          "output_type": "stream",
          "name": "stdout",
          "text": [
            "\u001b[32m.\u001b[0m\u001b[32m.\u001b[0m\u001b[32m.\u001b[0m\u001b[32m                                                                      [100%]\u001b[0m\n",
            "\u001b[32m\u001b[32m\u001b[1m3 passed\u001b[0m\u001b[32m in 0.01s\u001b[0m\u001b[0m\n"
          ]
        }
      ]
    },
    {
      "id": "6d4aaec7",
      "cell_type": "markdown",
      "source": [
        "## Exemplo 4 - Mocking de dependências externas"
      ],
      "metadata": {
        "id": "6d4aaec7"
      }
    },
    {
      "id": "b18a85a0",
      "cell_type": "code",
      "metadata": {
        "colab": {
          "base_uri": "https://localhost:8080/"
        },
        "id": "b18a85a0",
        "outputId": "8d661734-3635-4dc0-a548-24b3fce003d7"
      },
      "execution_count": 13,
      "source": [
        "\n",
        "%%writefile service.py\n",
        "import requests\n",
        "\n",
        "def get_user_name(user_id):\n",
        "    r = requests.get(f'https://api.example.com/users/{user_id}')\n",
        "    data = r.json()\n",
        "    return data.get('name')\n"
      ],
      "outputs": [
        {
          "output_type": "stream",
          "name": "stdout",
          "text": [
            "Writing service.py\n"
          ]
        }
      ]
    },
    {
      "id": "128b6938",
      "cell_type": "code",
      "metadata": {
        "colab": {
          "base_uri": "https://localhost:8080/"
        },
        "id": "128b6938",
        "outputId": "10963022-4fa1-4316-c64c-ba80e0658e04"
      },
      "execution_count": 14,
      "source": [
        "\n",
        "%%writefile test_service.py\n",
        "from unittest.mock import patch, Mock\n",
        "from service import get_user_name\n",
        "\n",
        "@patch('service.requests.get')\n",
        "def test_get_user_name(mock_get):\n",
        "    mock_resp = Mock()\n",
        "    mock_resp.json.return_value = {'name': 'Alice'}\n",
        "    mock_get.return_value = mock_resp\n",
        "\n",
        "    assert get_user_name(123) == 'Alice'\n"
      ],
      "outputs": [
        {
          "output_type": "stream",
          "name": "stdout",
          "text": [
            "Writing test_service.py\n"
          ]
        }
      ]
    },
    {
      "id": "85c50d69",
      "cell_type": "code",
      "metadata": {
        "colab": {
          "base_uri": "https://localhost:8080/"
        },
        "id": "85c50d69",
        "outputId": "ecdcdfdb-6364-4500-995d-e3829ba76c96"
      },
      "execution_count": 15,
      "source": [
        "!pytest -q test_service.py"
      ],
      "outputs": [
        {
          "output_type": "stream",
          "name": "stdout",
          "text": [
            "\u001b[32m.\u001b[0m\u001b[32m                                                                        [100%]\u001b[0m\n",
            "\u001b[32m\u001b[32m\u001b[1m1 passed\u001b[0m\u001b[32m in 0.01s\u001b[0m\u001b[0m\n"
          ]
        }
      ]
    }
  ]
}